{
 "cells": [
  {
   "cell_type": "markdown",
   "metadata": {},
   "source": [
    "# Predicting Violent Crime"
   ]
  },
  {
   "cell_type": "markdown",
   "metadata": {},
   "source": [
    "### Data Set Information:\n",
    "\n",
    "Many variables are included so that algorithms that select or learn weights for \n",
    "attributes could be tested. However, clearly unrelated attributes were not included; \n",
    "attributes were picked if there was any plausible connection to crime (N=122), plus \n",
    "the attribute to be predicted (Per Capita Violent Crimes). The variables included in \n",
    "the dataset involve the community, such as the percent of the population considered \n",
    "urban, and the median family income, and involving law enforcement, such as per capita \n",
    "number of police officers, and percent of officers assigned to drug units.\n",
    "\n",
    "The per capita violent crimes variable was calculated using population and the sum of \n",
    "crime variables considered violent crimes in the United States: murder, rape, robbery, \n",
    "and assault. There was apparently some controversy in some states concerning the \n",
    "counting of rapes. These resulted in missing values for rape, which resulted in \n",
    "incorrect values for per capita violent crime. These cities are not included in the \n",
    "dataset. Many of these omitted communities were from the midwestern USA.\n",
    "\n",
    "Data is described below based on original values. All numeric data was normalized into \n",
    "the decimal range 0.00-1.00 using an Unsupervised, equal-interval binning method. \n",
    "Attributes retain their distribution and skew (hence for example the population \n",
    "attribute has a mean value of 0.06 because most communities are small). E.g. An \n",
    "attribute described as 'mean people per household' is actually the normalized (0-1) \n",
    "version of that value.\n",
    "\n",
    "The normalization preserves rough ratios of values WITHIN an attribute (e.g. double \n",
    "the value for double the population within the available precision - except for \n",
    "extreme values (all values more than 3 SD above the mean are normalized to 1.00; all \n",
    "values more than 3 SD below the mean are nromalized to 0.00)).\n",
    "\n",
    "However, the normalization does not preserve relationships between values BETWEEN \n",
    "attributes (e.g. it would not be meaningful to compare the value for whitePerCap with \n",
    "the value for blackPerCap for a community)\n",
    "\n",
    "A limitation was that the LEMAS survey was of the police departments with at least 100 \n",
    "officers, plus a random sample of smaller departments. For our purposes, communities \n",
    "not found in both census and crime datasets were omitted. Many communities are missing \n",
    "LEMAS data."
   ]
  },
  {
   "cell_type": "markdown",
   "metadata": {},
   "source": [
    "### Features description\n",
    "\n",
    "- state: US state (by number) - not counted as predictive above, but if considered, should be consided nominal (nominal) \n",
    "- county: numeric code for county - not predictive, and many missing values (numeric) \n",
    "- community: numeric code for community - not predictive and many missing values (numeric) \n",
    "- communityname: community name - not predictive - for information only (string) \n",
    "- fold: fold number for non-random 10 fold cross validation, potentially useful for debugging, paired tests - not predictive (numeric) \n",
    "- population: population for community: (numeric - decimal) \n",
    "- householdsize: mean people per household (numeric - decimal) \n",
    "- racepctblack: percentage of population that is african american (numeric - decimal) \n",
    "- racePctWhite: percentage of population that is caucasian (numeric - decimal) \n",
    "- racePctAsian: percentage of population that is of asian heritage (numeric - decimal) \n",
    "- racePctHisp: percentage of population that is of hispanic heritage (numeric - decimal) \n",
    "- agePct12t21: percentage of population that is 12-21 in age (numeric - decimal) \n",
    "- agePct12t29: percentage of population that is 12-29 in age (numeric - decimal) \n",
    "- agePct16t24: percentage of population that is 16-24 in age (numeric - decimal) \n",
    "- agePct65up: percentage of population that is 65 and over in age (numeric - decimal) \n",
    "- numbUrban: number of people living in areas classified as urban (numeric - decimal) \n",
    "- pctUrban: percentage of people living in areas classified as urban (numeric - decimal) \n",
    "- medIncome: median household income (numeric - decimal) \n",
    "- pctWWage: percentage of households with wage or salary income in 1989 (numeric - decimal) \n",
    "- pctWFarmSelf: percentage of households with farm or self employment income in 1989 (numeric - decimal) \n",
    "- pctWInvInc: percentage of households with investment / rent income in 1989 (numeric - decimal) \n",
    "- pctWSocSec: percentage of households with social security income in 1989 (numeric - decimal) \n",
    "- pctWPubAsst: percentage of households with public assistance income in 1989 (numeric - decimal) \n",
    "- pctWRetire: percentage of households with retirement income in 1989 (numeric - decimal) \n",
    "- medFamInc: median family income (differs from household income for non-family households) (numeric - decimal) \n",
    "- perCapInc: per capita income (numeric - decimal) \n",
    "- whitePerCap: per capita income for caucasians (numeric - decimal) \n",
    "- blackPerCap: per capita income for african americans (numeric - decimal) \n",
    "- indianPerCap: per capita income for native americans (numeric - decimal) \n",
    "- AsianPerCap: per capita income for people with asian heritage (numeric - decimal) \n",
    "- OtherPerCap: per capita income for people with 'other' heritage (numeric - decimal) \n",
    "- HispPerCap: per capita income for people with hispanic heritage (numeric - decimal) \n",
    "- NumUnderPov: number of people under the poverty level (numeric - decimal) \n",
    "- PctPopUnderPov: percentage of people under the poverty level (numeric - decimal) \n",
    "- PctLess9thGrade: percentage of people 25 and over with less than a 9th grade education (numeric - decimal) \n",
    "- PctNotHSGrad: percentage of people 25 and over that are not high school graduates (numeric - decimal) \n",
    "- PctBSorMore: percentage of people 25 and over with a bachelors degree or higher education (numeric - decimal) \n",
    "- PctUnemployed: percentage of people 16 and over, in the labor force, and unemployed (numeric - decimal) \n",
    "- PctEmploy: percentage of people 16 and over who are employed (numeric - decimal) \n",
    "- PctEmplManu: percentage of people 16 and over who are employed in manufacturing (numeric - decimal) \n",
    "- PctEmplProfServ: percentage of people 16 and over who are employed in professional services (numeric - decimal) \n",
    "- PctOccupManu: percentage of people 16 and over who are employed in manufacturing (numeric - decimal) ######## \n",
    "- PctOccupMgmtProf: percentage of people 16 and over who are employed in management or professional occupations (numeric - decimal) \n",
    "- MalePctDivorce: percentage of males who are divorced (numeric - decimal) \n",
    "- MalePctNevMarr: percentage of males who have never married (numeric - decimal) \n",
    "- FemalePctDiv: percentage of females who are divorced (numeric - decimal) \n",
    "- TotalPctDiv: percentage of population who are divorced (numeric - decimal) \n",
    "- PersPerFam: mean number of people per family (numeric - decimal) \n",
    "- PctFam2Par: percentage of families (with kids) that are headed by two parents (numeric - decimal) \n",
    "- PctKids2Par: percentage of kids in family housing with two parents (numeric - decimal) \n",
    "- PctYoungKids2Par: percent of kids 4 and under in two parent households (numeric - decimal) \n",
    "- PctTeen2Par: percent of kids age 12-17 in two parent households (numeric - decimal) \n",
    "- PctWorkMomYoungKids: percentage of moms of kids 6 and under in labor force (numeric - decimal) \n",
    "- PctWorkMom: percentage of moms of kids under 18 in labor force (numeric - decimal) \n",
    "- NumIlleg: number of kids born to never married (numeric - decimal) \n",
    " PctIlleg: percentage of kids born to never married (numeric - decimal) \n",
    "- NumImmig: total number of people known to be foreign born (numeric - decimal) \n",
    "- PctImmigRecent: percentage of _immigrants_ who immigated within last 3 years (numeric - decimal) \n",
    "- PctImmigRec5: percentage of _immigrants_ who immigated within last 5 years (numeric - decimal) \n",
    "- PctImmigRec8: percentage of _immigrants_ who immigated within last 8 years (numeric - decimal) \n",
    "- PctImmigRec10: percentage of _immigrants_ who immigated within last 10 years (numeric - decimal) \n",
    "- PctRecentImmig: percent of _population_ who have immigrated within the last 3 years (numeric - decimal) \n",
    "- PctRecImmig5: percent of _population_ who have immigrated within the last 5 years (numeric - decimal) \n",
    "- PctRecImmig8: percent of _population_ who have immigrated within the last 8 years (numeric - decimal) \n",
    "- PctRecImmig10: percent of _population_ who have immigrated within the last 10 years (numeric - decimal) \n",
    "- PctSpeakEnglOnly: percent of people who speak only English (numeric - decimal) \n",
    "- PctNotSpeakEnglWell: percent of people who do not speak English well (numeric - decimal) \n",
    "- PctLargHouseFam: percent of family households that are large (6 or more) (numeric - decimal) \n",
    "- PctLargHouseOccup: percent of all occupied households that are large (6 or more people) (numeric - decimal) \n",
    "- PersPerOccupHous: mean persons per household (numeric - decimal) \n",
    "- PersPerOwnOccHous: mean persons per owner occupied household (numeric - decimal) \n",
    "- PersPerRentOccHous: mean persons per rental household (numeric - decimal) \n",
    "- PctPersOwnOccup: percent of people in owner occupied households (numeric - decimal) \n",
    "- PctPersDenseHous: percent of persons in dense housing (more than 1 person per room) (numeric - decimal) \n",
    "- PctHousLess3BR: percent of housing units with less than 3 bedrooms (numeric - decimal) \n",
    "- MedNumBR: median number of bedrooms (numeric - decimal) \n",
    "- HousVacant: number of vacant households (numeric - decimal) \n",
    "- PctHousOccup: percent of housing occupied (numeric - decimal) \n",
    "- PctHousOwnOcc: percent of households owner occupied (numeric - decimal) \n",
    "- PctVacantBoarded: percent of vacant housing that is boarded up (numeric - decimal) \n",
    "- PctVacMore6Mos: percent of vacant housing that has been vacant more than 6 months (numeric - decimal) \n",
    "- MedYrHousBuilt: median year housing units built (numeric - decimal) \n",
    "- PctHousNoPhone: percent of occupied housing units without phone (in 1990, this was rare!) (numeric - decimal) \n",
    "- PctWOFullPlumb: percent of housing without complete plumbing facilities (numeric - decimal) \n",
    "- OwnOccLowQuart: owner occupied housing - lower quartile value (numeric - decimal) \n",
    "- OwnOccMedVal: owner occupied housing - median value (numeric - decimal) \n",
    "- OwnOccHiQuart: owner occupied housing - upper quartile value (numeric - decimal) \n",
    "- RentLowQ: rental housing - lower quartile rent (numeric - decimal) \n",
    "- RentMedian: rental housing - median rent (Census variable H32B from file STF1A) (numeric - decimal) \n",
    "- RentHighQ: rental housing - upper quartile rent (numeric - decimal) \n",
    "- MedRent: median gross rent (Census variable H43A from file STF3A - includes utilities) (numeric - decimal) \n",
    "- MedRentPctHousInc: median gross rent as a percentage of household income (numeric - decimal) \n",
    "- MedOwnCostPctInc: median owners cost as a percentage of household income - for owners with a mortgage (numeric - decimal) \n",
    "- MedOwnCostPctIncNoMtg: median owners cost as a percentage of household income - for owners without a mortgage (numeric - decimal) \n",
    "- NumInShelters: number of people in homeless shelters (numeric - decimal) \n",
    "- NumStreet: number of homeless people counted in the street (numeric - decimal) \n",
    "- PctForeignBorn: percent of people foreign born (numeric - decimal) \n",
    "- PctBornSameState: percent of people born in the same state as currently living (numeric - decimal) \n",
    "- PctSameHouse85: percent of people living in the same house as in 1985 (5 years before) (numeric - decimal) \n",
    "- PctSameCity85: percent of people living in the same city as in 1985 (5 years before) (numeric - decimal) \n",
    "- PctSameState85: percent of people living in the same state as in 1985 (5 years before) (numeric - decimal) \n",
    "- LemasSwornFT: number of sworn full time police officers (numeric - decimal) \n",
    "- LemasSwFTPerPop: sworn full time police officers per 100K population (numeric - decimal) \n",
    "- LemasSwFTFieldOps: number of sworn full time police officers in field operations (on the street as opposed to administrative etc) (numeric - decimal) \n",
    "- LemasSwFTFieldPerPop: sworn full time police officers in field operations (on the street as opposed to administrative etc) per 100K population (numeric - decimal) \n",
    "- LemasTotalReq: total requests for police (numeric - decimal) \n",
    "- LemasTotReqPerPop: total requests for police per 100K popuation (numeric - decimal) \n",
    "- PolicReqPerOffic: total requests for police per police officer (numeric - decimal) \n",
    "- PolicPerPop: police officers per 100K population (numeric - decimal) \n",
    "- RacialMatchCommPol: a measure of the racial match between the community and the police force. High values indicate proportions in community and police force are similar (numeric - decimal) \n",
    "- PctPolicWhite: percent of police that are caucasian (numeric - decimal) \n",
    "- PctPolicBlack: percent of police that are african american (numeric - decimal) \n",
    "- PctPolicHisp: percent of police that are hispanic (numeric - decimal) \n",
    "- PctPolicAsian: percent of police that are asian (numeric - decimal) \n",
    "- PctPolicMinor: percent of police that are minority of any kind (numeric - decimal) \n",
    "- OfficAssgnDrugUnits: number of officers assigned to special drug units (numeric - decimal) \n",
    "- NumKindsDrugsSeiz: number of different kinds of drugs seized (numeric - decimal) \n",
    "- PolicAveOTWorked: police average overtime worked (numeric - decimal) \n",
    "- LandArea: land area in square miles (numeric - decimal) \n",
    "- PopDens: population density in persons per square mile (numeric - decimal) \n",
    "- PctUsePubTrans: percent of people using public transit for commuting (numeric - decimal) \n",
    "- PolicCars: number of police cars (numeric - decimal) \n",
    "- PolicOperBudg: police operating budget (numeric - decimal) \n",
    "- LemasPctPolicOnPatr: percent of sworn full time police officers on patrol (numeric - decimal) \n",
    "- LemasGangUnitDeploy: gang unit deployed (numeric - decimal - but really ordinal - 0 means NO, 1 means YES, 0.5 means Part Time) \n",
    "- LemasPctOfficDrugUn: percent of officers assigned to drug units (numeric - decimal) \n",
    "- PolicBudgPerPop: police operating budget per population (numeric - decimal) \n",
    "- ViolentCrimesPerPop: total number of violent crimes per 100K popuation (numeric - decimal) GOAL attribute (to be predicted) "
   ]
  },
  {
   "cell_type": "code",
   "execution_count": 5,
   "metadata": {
    "collapsed": true
   },
   "outputs": [],
   "source": [
    "# Importing useful libraries\n",
    "import numpy as np\n",
    "import matplotlib.pyplot as plt\n",
    "import pandas as pd\n",
    "%matplotlib inline"
   ]
  },
  {
   "cell_type": "markdown",
   "metadata": {},
   "source": [
    "## 0. Data Preparation"
   ]
  },
  {
   "cell_type": "code",
   "execution_count": 7,
   "metadata": {
    "collapsed": true
   },
   "outputs": [],
   "source": [
    "# importing useful objects\n",
    "from crime_dataset_headers import *\n",
    "# importing data\n",
    "data_url= './data/communities.data'\n",
    "crime = pd.read_csv(data_url, header=None, names=headers, na_values='?', index_col='communityname')"
   ]
  },
  {
   "cell_type": "code",
   "execution_count": 8,
   "metadata": {},
   "outputs": [],
   "source": [
    "# Deleting non predictive columns\n",
    "non_predictive = ['state','county', 'community', 'fold']\n",
    "crime.drop(non_predictive, axis=1, inplace=True)\n",
    "# Imputing one missing value\n",
    "crime.loc['Natchezcity','OtherPerCap'] = crime['OtherPerCap'].mean()\n",
    "# Deleting columns with majority of missing values\n",
    "missing_values_per_col = crime.isnull().sum()\n",
    "cols_to_remove = missing_values_per_col[missing_values_per_col > 0].index\n",
    "crime.drop(cols_to_remove, axis=1, inplace=True)"
   ]
  },
  {
   "cell_type": "code",
   "execution_count": 20,
   "metadata": {},
   "outputs": [
    {
     "output_type": "execute_result",
     "data": {
      "text/plain": [
       "population             0.367157\n",
       "householdsize         -0.034923\n",
       "racepctblack           0.631264\n",
       "racePctWhite          -0.684770\n",
       "racePctAsian           0.037622\n",
       "                         ...   \n",
       "LandArea               0.196800\n",
       "PopDens                0.281390\n",
       "PctUsePubTrans         0.153829\n",
       "LemasPctOfficDrugUn    0.348627\n",
       "ViolentCrimesPerPop    1.000000\n",
       "Name: ViolentCrimesPerPop, Length: 100, dtype: float64"
      ]
     },
     "metadata": {},
     "execution_count": 20
    }
   ],
   "source": [
    "corr_features = crime.corr().loc['ViolentCrimesPerPop']\n",
    "corr_features\n"
   ]
  },
  {
   "cell_type": "code",
   "execution_count": 16,
   "metadata": {},
   "outputs": [
    {
     "output_type": "execute_result",
     "data": {
      "text/plain": [
       "['PctKids2Par',\n",
       " 'PctIlleg',\n",
       " 'PctFam2Par',\n",
       " 'racePctWhite',\n",
       " 'PctYoungKids2Par',\n",
       " 'PctTeen2Par',\n",
       " 'racepctblack',\n",
       " 'pctWInvInc',\n",
       " 'pctWPubAsst',\n",
       " 'FemalePctDiv']"
      ]
     },
     "metadata": {},
     "execution_count": 16
    }
   ],
   "source": [
    "# Features with the highest correlation with the target\n",
    "top_corr_features = crime.corr().loc['ViolentCrimesPerPop'].apply(np.abs).sort_values(ascending=False).index[1:11]\n",
    "top_corr_features = list(top_corr_features)\n",
    "top_corr_features"
   ]
  },
  {
   "cell_type": "markdown",
   "metadata": {},
   "source": [
    "### Getting the train and test sets"
   ]
  },
  {
   "cell_type": "code",
   "execution_count": 25,
   "metadata": {
    "collapsed": true
   },
   "outputs": [],
   "source": [
    "from sklearn.model_selection import train_test_split\n",
    "from sklearn.metrics import mean_squared_error"
   ]
  },
  {
   "cell_type": "code",
   "execution_count": 26,
   "metadata": {},
   "outputs": [],
   "source": [
    "target_name = 'ViolentCrimesPerPop'\n",
    "X = crime[top_corr_features]\n",
    "y = crime[target_name]\n",
    "X_train, X_test, y_train, y_test = train_test_split(X, y, test_size=0.2, random_state=12)"
   ]
  },
  {
   "cell_type": "markdown",
   "metadata": {},
   "source": [
    "### Preparing a DataFrame for model analysis"
   ]
  },
  {
   "cell_type": "code",
   "execution_count": 27,
   "metadata": {
    "collapsed": true
   },
   "outputs": [],
   "source": [
    "models = pd.DataFrame(index=['top10_featues_mse', 'full_model_mse'], \n",
    "                      columns=['NULL', 'MLR', 'KNN', 'LASSO'])"
   ]
  },
  {
   "cell_type": "markdown",
   "metadata": {},
   "source": [
    "# Making predictions with just a few features (top 10)"
   ]
  },
  {
   "cell_type": "markdown",
   "metadata": {},
   "source": [
    "## The Null model: always predict the average of the target"
   ]
  },
  {
   "cell_type": "code",
   "execution_count": 32,
   "metadata": {
    "scrolled": true
   },
   "outputs": [],
   "source": [
    "y_pred_null = y_train.mean()\n",
    "#print(y_pred_null)\n",
    "models.loc['top10_featues_mse','NULL'] = mean_squared_error(y_pred=np.repeat(y_pred_null, y_test.size), y_true=y_test)"
   ]
  },
  {
   "cell_type": "markdown",
   "metadata": {},
   "source": [
    "## A. Multiple Linear Regression"
   ]
  },
  {
   "cell_type": "code",
   "execution_count": 33,
   "metadata": {
    "collapsed": true
   },
   "outputs": [],
   "source": [
    "# 1. Import the estimator object (model)\n",
    "from sklearn.linear_model import LinearRegression\n",
    "# 2. Create an instance of the estimator\n",
    "linear_regression = LinearRegression()\n",
    "# 3. Use the training data to train the estimator\n",
    "linear_regression.fit(X_train, y_train)\n",
    "# 4. Evaluate the model\n",
    "models.loc['top10_featues_mse','MLR'] = mean_squared_error(y_pred=linear_regression.predict(X_test), \n",
    "                                                   y_true=y_test)"
   ]
  },
  {
   "cell_type": "markdown",
   "metadata": {},
   "source": [
    "## B. K-Nearest Neighbor Model"
   ]
  },
  {
   "cell_type": "code",
   "execution_count": 34,
   "metadata": {},
   "outputs": [],
   "source": [
    "# 1. Import the estimator object (model)\n",
    "from sklearn.neighbors import KNeighborsRegressor\n",
    "# 2. Create an instance of the estimator\n",
    "knn = KNeighborsRegressor(n_neighbors=10, weights='distance', metric='euclidean')\n",
    "# 3. Use the trainning data to train the estimator\n",
    "knn.fit(X_train, y_train)\n",
    "# 4. Evaluate the model\n",
    "models.loc['top10_featues_mse','KNN'] = mean_squared_error(y_pred=knn.predict(X_test), \n",
    "                                                   y_true=y_test)"
   ]
  },
  {
   "cell_type": "markdown",
   "metadata": {},
   "source": [
    "## C. Lasso"
   ]
  },
  {
   "cell_type": "code",
   "execution_count": 35,
   "metadata": {
    "collapsed": true
   },
   "outputs": [],
   "source": [
    "# 1. Import the estimator object (model)\n",
    "from sklearn.linear_model import Lasso\n",
    "# 2. Create an instance of the estimator\n",
    "lasso = Lasso(alpha=0.0001)\n",
    "# 3. Use the trainning data to train the estimator\n",
    "lasso.fit(X_train, y_train)\n",
    "# 4. Evaluate the model\n",
    "models.loc['top10_featues_mse','LASSO'] = mean_squared_error(y_pred=lasso.predict(X_test), \n",
    "                                                   y_true=y_test)"
   ]
  },
  {
   "cell_type": "code",
   "execution_count": 36,
   "metadata": {},
   "outputs": [
    {
     "output_type": "execute_result",
     "data": {
      "text/plain": [
       "                        NULL        MLR        KNN     LASSO\n",
       "top10_featues_mse  0.0557338  0.0235119  0.0221343  0.023321\n",
       "full_model_mse           NaN        NaN        NaN       NaN"
      ],
      "text/html": "<div>\n<style scoped>\n    .dataframe tbody tr th:only-of-type {\n        vertical-align: middle;\n    }\n\n    .dataframe tbody tr th {\n        vertical-align: top;\n    }\n\n    .dataframe thead th {\n        text-align: right;\n    }\n</style>\n<table border=\"1\" class=\"dataframe\">\n  <thead>\n    <tr style=\"text-align: right;\">\n      <th></th>\n      <th>NULL</th>\n      <th>MLR</th>\n      <th>KNN</th>\n      <th>LASSO</th>\n    </tr>\n  </thead>\n  <tbody>\n    <tr>\n      <th>top10_featues_mse</th>\n      <td>0.0557338</td>\n      <td>0.0235119</td>\n      <td>0.0221343</td>\n      <td>0.023321</td>\n    </tr>\n    <tr>\n      <th>full_model_mse</th>\n      <td>NaN</td>\n      <td>NaN</td>\n      <td>NaN</td>\n      <td>NaN</td>\n    </tr>\n  </tbody>\n</table>\n</div>"
     },
     "metadata": {},
     "execution_count": 36
    }
   ],
   "source": [
    "models"
   ]
  },
  {
   "cell_type": "code",
   "execution_count": 37,
   "metadata": {},
   "outputs": [
    {
     "output_type": "display_data",
     "data": {
      "text/plain": "<Figure size 576x360 with 1 Axes>",
      "image/svg+xml": "<?xml version=\"1.0\" encoding=\"utf-8\" standalone=\"no\"?>\n<!DOCTYPE svg PUBLIC \"-//W3C//DTD SVG 1.1//EN\"\n  \"http://www.w3.org/Graphics/SVG/1.1/DTD/svg11.dtd\">\n<!-- Created with matplotlib (https://matplotlib.org/) -->\n<svg height=\"317.99625pt\" version=\"1.1\" viewBox=\"0 0 501.00625 317.99625\" width=\"501.00625pt\" xmlns=\"http://www.w3.org/2000/svg\" xmlns:xlink=\"http://www.w3.org/1999/xlink\">\n <metadata>\n  <rdf:RDF xmlns:cc=\"http://creativecommons.org/ns#\" xmlns:dc=\"http://purl.org/dc/elements/1.1/\" xmlns:rdf=\"http://www.w3.org/1999/02/22-rdf-syntax-ns#\">\n   <cc:Work>\n    <dc:type rdf:resource=\"http://purl.org/dc/dcmitype/StillImage\"/>\n    <dc:date>2021-01-17T23:52:15.929848</dc:date>\n    <dc:format>image/svg+xml</dc:format>\n    <dc:creator>\n     <cc:Agent>\n      <dc:title>Matplotlib v3.3.2, https://matplotlib.org/</dc:title>\n     </cc:Agent>\n    </dc:creator>\n   </cc:Work>\n  </rdf:RDF>\n </metadata>\n <defs>\n  <style type=\"text/css\">*{stroke-linecap:butt;stroke-linejoin:round;}</style>\n </defs>\n <g id=\"figure_1\">\n  <g id=\"patch_1\">\n   <path d=\"M 0 317.99625 \nL 501.00625 317.99625 \nL 501.00625 0 \nL 0 0 \nz\n\" style=\"fill:none;\"/>\n  </g>\n  <g id=\"axes_1\">\n   <g id=\"patch_2\">\n    <path d=\"M 47.40625 294.118125 \nL 493.80625 294.118125 \nL 493.80625 22.318125 \nL 47.40625 22.318125 \nz\n\" style=\"fill:#ffffff;\"/>\n   </g>\n   <g id=\"patch_3\">\n    <path clip-path=\"url(#p6116e2e727)\" d=\"M 47.40625 277.130625 \nL 472.549107 277.130625 \nL 472.549107 243.155625 \nL 47.40625 243.155625 \nz\n\" style=\"fill:#1f77b4;\"/>\n   </g>\n   <g id=\"patch_4\">\n    <path clip-path=\"url(#p6116e2e727)\" d=\"M 47.40625 209.180625 \nL 226.757151 209.180625 \nL 226.757151 175.205625 \nL 47.40625 175.205625 \nz\n\" style=\"fill:#1f77b4;\"/>\n   </g>\n   <g id=\"patch_5\">\n    <path clip-path=\"url(#p6116e2e727)\" d=\"M 47.40625 141.230625 \nL 216.248741 141.230625 \nL 216.248741 107.255625 \nL 47.40625 107.255625 \nz\n\" style=\"fill:#1f77b4;\"/>\n   </g>\n   <g id=\"patch_6\">\n    <path clip-path=\"url(#p6116e2e727)\" d=\"M 47.40625 73.280625 \nL 225.301437 73.280625 \nL 225.301437 39.305625 \nL 47.40625 39.305625 \nz\n\" style=\"fill:#1f77b4;\"/>\n   </g>\n   <g id=\"matplotlib.axis_1\">\n    <g id=\"xtick_1\">\n     <g id=\"line2d_1\">\n      <defs>\n       <path d=\"M 0 0 \nL 0 3.5 \n\" id=\"me08d5f8788\" style=\"stroke:#000000;stroke-width:0.8;\"/>\n      </defs>\n      <g>\n       <use style=\"stroke:#000000;stroke-width:0.8;\" x=\"47.40625\" xlink:href=\"#me08d5f8788\" y=\"294.118125\"/>\n      </g>\n     </g>\n     <g id=\"text_1\">\n      <!-- 0.00 -->\n      <g transform=\"translate(36.273438 308.716563)scale(0.1 -0.1)\">\n       <defs>\n        <path d=\"M 31.78125 66.40625 \nQ 24.171875 66.40625 20.328125 58.90625 \nQ 16.5 51.421875 16.5 36.375 \nQ 16.5 21.390625 20.328125 13.890625 \nQ 24.171875 6.390625 31.78125 6.390625 \nQ 39.453125 6.390625 43.28125 13.890625 \nQ 47.125 21.390625 47.125 36.375 \nQ 47.125 51.421875 43.28125 58.90625 \nQ 39.453125 66.40625 31.78125 66.40625 \nz\nM 31.78125 74.21875 \nQ 44.046875 74.21875 50.515625 64.515625 \nQ 56.984375 54.828125 56.984375 36.375 \nQ 56.984375 17.96875 50.515625 8.265625 \nQ 44.046875 -1.421875 31.78125 -1.421875 \nQ 19.53125 -1.421875 13.0625 8.265625 \nQ 6.59375 17.96875 6.59375 36.375 \nQ 6.59375 54.828125 13.0625 64.515625 \nQ 19.53125 74.21875 31.78125 74.21875 \nz\n\" id=\"DejaVuSans-48\"/>\n        <path d=\"M 10.6875 12.40625 \nL 21 12.40625 \nL 21 0 \nL 10.6875 0 \nz\n\" id=\"DejaVuSans-46\"/>\n       </defs>\n       <use xlink:href=\"#DejaVuSans-48\"/>\n       <use x=\"63.623047\" xlink:href=\"#DejaVuSans-46\"/>\n       <use x=\"95.410156\" xlink:href=\"#DejaVuSans-48\"/>\n       <use x=\"159.033203\" xlink:href=\"#DejaVuSans-48\"/>\n      </g>\n     </g>\n    </g>\n    <g id=\"xtick_2\">\n     <g id=\"line2d_2\">\n      <g>\n       <use style=\"stroke:#000000;stroke-width:0.8;\" x=\"123.687261\" xlink:href=\"#me08d5f8788\" y=\"294.118125\"/>\n      </g>\n     </g>\n     <g id=\"text_2\">\n      <!-- 0.01 -->\n      <g transform=\"translate(112.554448 308.716563)scale(0.1 -0.1)\">\n       <defs>\n        <path d=\"M 12.40625 8.296875 \nL 28.515625 8.296875 \nL 28.515625 63.921875 \nL 10.984375 60.40625 \nL 10.984375 69.390625 \nL 28.421875 72.90625 \nL 38.28125 72.90625 \nL 38.28125 8.296875 \nL 54.390625 8.296875 \nL 54.390625 0 \nL 12.40625 0 \nz\n\" id=\"DejaVuSans-49\"/>\n       </defs>\n       <use xlink:href=\"#DejaVuSans-48\"/>\n       <use x=\"63.623047\" xlink:href=\"#DejaVuSans-46\"/>\n       <use x=\"95.410156\" xlink:href=\"#DejaVuSans-48\"/>\n       <use x=\"159.033203\" xlink:href=\"#DejaVuSans-49\"/>\n      </g>\n     </g>\n    </g>\n    <g id=\"xtick_3\">\n     <g id=\"line2d_3\">\n      <g>\n       <use style=\"stroke:#000000;stroke-width:0.8;\" x=\"199.968271\" xlink:href=\"#me08d5f8788\" y=\"294.118125\"/>\n      </g>\n     </g>\n     <g id=\"text_3\">\n      <!-- 0.02 -->\n      <g transform=\"translate(188.835459 308.716563)scale(0.1 -0.1)\">\n       <defs>\n        <path d=\"M 19.1875 8.296875 \nL 53.609375 8.296875 \nL 53.609375 0 \nL 7.328125 0 \nL 7.328125 8.296875 \nQ 12.9375 14.109375 22.625 23.890625 \nQ 32.328125 33.6875 34.8125 36.53125 \nQ 39.546875 41.84375 41.421875 45.53125 \nQ 43.3125 49.21875 43.3125 52.78125 \nQ 43.3125 58.59375 39.234375 62.25 \nQ 35.15625 65.921875 28.609375 65.921875 \nQ 23.96875 65.921875 18.8125 64.3125 \nQ 13.671875 62.703125 7.8125 59.421875 \nL 7.8125 69.390625 \nQ 13.765625 71.78125 18.9375 73 \nQ 24.125 74.21875 28.421875 74.21875 \nQ 39.75 74.21875 46.484375 68.546875 \nQ 53.21875 62.890625 53.21875 53.421875 \nQ 53.21875 48.921875 51.53125 44.890625 \nQ 49.859375 40.875 45.40625 35.40625 \nQ 44.1875 33.984375 37.640625 27.21875 \nQ 31.109375 20.453125 19.1875 8.296875 \nz\n\" id=\"DejaVuSans-50\"/>\n       </defs>\n       <use xlink:href=\"#DejaVuSans-48\"/>\n       <use x=\"63.623047\" xlink:href=\"#DejaVuSans-46\"/>\n       <use x=\"95.410156\" xlink:href=\"#DejaVuSans-48\"/>\n       <use x=\"159.033203\" xlink:href=\"#DejaVuSans-50\"/>\n      </g>\n     </g>\n    </g>\n    <g id=\"xtick_4\">\n     <g id=\"line2d_4\">\n      <g>\n       <use style=\"stroke:#000000;stroke-width:0.8;\" x=\"276.249282\" xlink:href=\"#me08d5f8788\" y=\"294.118125\"/>\n      </g>\n     </g>\n     <g id=\"text_4\">\n      <!-- 0.03 -->\n      <g transform=\"translate(265.11647 308.716563)scale(0.1 -0.1)\">\n       <defs>\n        <path d=\"M 40.578125 39.3125 \nQ 47.65625 37.796875 51.625 33 \nQ 55.609375 28.21875 55.609375 21.1875 \nQ 55.609375 10.40625 48.1875 4.484375 \nQ 40.765625 -1.421875 27.09375 -1.421875 \nQ 22.515625 -1.421875 17.65625 -0.515625 \nQ 12.796875 0.390625 7.625 2.203125 \nL 7.625 11.71875 \nQ 11.71875 9.328125 16.59375 8.109375 \nQ 21.484375 6.890625 26.8125 6.890625 \nQ 36.078125 6.890625 40.9375 10.546875 \nQ 45.796875 14.203125 45.796875 21.1875 \nQ 45.796875 27.640625 41.28125 31.265625 \nQ 36.765625 34.90625 28.71875 34.90625 \nL 20.21875 34.90625 \nL 20.21875 43.015625 \nL 29.109375 43.015625 \nQ 36.375 43.015625 40.234375 45.921875 \nQ 44.09375 48.828125 44.09375 54.296875 \nQ 44.09375 59.90625 40.109375 62.90625 \nQ 36.140625 65.921875 28.71875 65.921875 \nQ 24.65625 65.921875 20.015625 65.03125 \nQ 15.375 64.15625 9.8125 62.3125 \nL 9.8125 71.09375 \nQ 15.4375 72.65625 20.34375 73.4375 \nQ 25.25 74.21875 29.59375 74.21875 \nQ 40.828125 74.21875 47.359375 69.109375 \nQ 53.90625 64.015625 53.90625 55.328125 \nQ 53.90625 49.265625 50.4375 45.09375 \nQ 46.96875 40.921875 40.578125 39.3125 \nz\n\" id=\"DejaVuSans-51\"/>\n       </defs>\n       <use xlink:href=\"#DejaVuSans-48\"/>\n       <use x=\"63.623047\" xlink:href=\"#DejaVuSans-46\"/>\n       <use x=\"95.410156\" xlink:href=\"#DejaVuSans-48\"/>\n       <use x=\"159.033203\" xlink:href=\"#DejaVuSans-51\"/>\n      </g>\n     </g>\n    </g>\n    <g id=\"xtick_5\">\n     <g id=\"line2d_5\">\n      <g>\n       <use style=\"stroke:#000000;stroke-width:0.8;\" x=\"352.530293\" xlink:href=\"#me08d5f8788\" y=\"294.118125\"/>\n      </g>\n     </g>\n     <g id=\"text_5\">\n      <!-- 0.04 -->\n      <g transform=\"translate(341.39748 308.716563)scale(0.1 -0.1)\">\n       <defs>\n        <path d=\"M 37.796875 64.3125 \nL 12.890625 25.390625 \nL 37.796875 25.390625 \nz\nM 35.203125 72.90625 \nL 47.609375 72.90625 \nL 47.609375 25.390625 \nL 58.015625 25.390625 \nL 58.015625 17.1875 \nL 47.609375 17.1875 \nL 47.609375 0 \nL 37.796875 0 \nL 37.796875 17.1875 \nL 4.890625 17.1875 \nL 4.890625 26.703125 \nz\n\" id=\"DejaVuSans-52\"/>\n       </defs>\n       <use xlink:href=\"#DejaVuSans-48\"/>\n       <use x=\"63.623047\" xlink:href=\"#DejaVuSans-46\"/>\n       <use x=\"95.410156\" xlink:href=\"#DejaVuSans-48\"/>\n       <use x=\"159.033203\" xlink:href=\"#DejaVuSans-52\"/>\n      </g>\n     </g>\n    </g>\n    <g id=\"xtick_6\">\n     <g id=\"line2d_6\">\n      <g>\n       <use style=\"stroke:#000000;stroke-width:0.8;\" x=\"428.811304\" xlink:href=\"#me08d5f8788\" y=\"294.118125\"/>\n      </g>\n     </g>\n     <g id=\"text_6\">\n      <!-- 0.05 -->\n      <g transform=\"translate(417.678491 308.716563)scale(0.1 -0.1)\">\n       <defs>\n        <path d=\"M 10.796875 72.90625 \nL 49.515625 72.90625 \nL 49.515625 64.59375 \nL 19.828125 64.59375 \nL 19.828125 46.734375 \nQ 21.96875 47.46875 24.109375 47.828125 \nQ 26.265625 48.1875 28.421875 48.1875 \nQ 40.625 48.1875 47.75 41.5 \nQ 54.890625 34.8125 54.890625 23.390625 \nQ 54.890625 11.625 47.5625 5.09375 \nQ 40.234375 -1.421875 26.90625 -1.421875 \nQ 22.3125 -1.421875 17.546875 -0.640625 \nQ 12.796875 0.140625 7.71875 1.703125 \nL 7.71875 11.625 \nQ 12.109375 9.234375 16.796875 8.0625 \nQ 21.484375 6.890625 26.703125 6.890625 \nQ 35.15625 6.890625 40.078125 11.328125 \nQ 45.015625 15.765625 45.015625 23.390625 \nQ 45.015625 31 40.078125 35.4375 \nQ 35.15625 39.890625 26.703125 39.890625 \nQ 22.75 39.890625 18.8125 39.015625 \nQ 14.890625 38.140625 10.796875 36.28125 \nz\n\" id=\"DejaVuSans-53\"/>\n       </defs>\n       <use xlink:href=\"#DejaVuSans-48\"/>\n       <use x=\"63.623047\" xlink:href=\"#DejaVuSans-46\"/>\n       <use x=\"95.410156\" xlink:href=\"#DejaVuSans-48\"/>\n       <use x=\"159.033203\" xlink:href=\"#DejaVuSans-53\"/>\n      </g>\n     </g>\n    </g>\n   </g>\n   <g id=\"matplotlib.axis_2\">\n    <g id=\"ytick_1\">\n     <g id=\"line2d_7\">\n      <defs>\n       <path d=\"M 0 0 \nL -3.5 0 \n\" id=\"m096afc6add\" style=\"stroke:#000000;stroke-width:0.8;\"/>\n      </defs>\n      <g>\n       <use style=\"stroke:#000000;stroke-width:0.8;\" x=\"47.40625\" xlink:href=\"#m096afc6add\" y=\"260.143125\"/>\n      </g>\n     </g>\n     <g id=\"text_7\">\n      <!-- NULL -->\n      <g transform=\"translate(14.4625 263.942344)scale(0.1 -0.1)\">\n       <defs>\n        <path d=\"M 9.8125 72.90625 \nL 23.09375 72.90625 \nL 55.421875 11.921875 \nL 55.421875 72.90625 \nL 64.984375 72.90625 \nL 64.984375 0 \nL 51.703125 0 \nL 19.390625 60.984375 \nL 19.390625 0 \nL 9.8125 0 \nz\n\" id=\"DejaVuSans-78\"/>\n        <path d=\"M 8.6875 72.90625 \nL 18.609375 72.90625 \nL 18.609375 28.609375 \nQ 18.609375 16.890625 22.84375 11.734375 \nQ 27.09375 6.59375 36.625 6.59375 \nQ 46.09375 6.59375 50.34375 11.734375 \nQ 54.59375 16.890625 54.59375 28.609375 \nL 54.59375 72.90625 \nL 64.5 72.90625 \nL 64.5 27.390625 \nQ 64.5 13.140625 57.4375 5.859375 \nQ 50.390625 -1.421875 36.625 -1.421875 \nQ 22.796875 -1.421875 15.734375 5.859375 \nQ 8.6875 13.140625 8.6875 27.390625 \nz\n\" id=\"DejaVuSans-85\"/>\n        <path d=\"M 9.8125 72.90625 \nL 19.671875 72.90625 \nL 19.671875 8.296875 \nL 55.171875 8.296875 \nL 55.171875 0 \nL 9.8125 0 \nz\n\" id=\"DejaVuSans-76\"/>\n       </defs>\n       <use xlink:href=\"#DejaVuSans-78\"/>\n       <use x=\"74.804688\" xlink:href=\"#DejaVuSans-85\"/>\n       <use x=\"147.998047\" xlink:href=\"#DejaVuSans-76\"/>\n       <use x=\"203.710938\" xlink:href=\"#DejaVuSans-76\"/>\n      </g>\n     </g>\n    </g>\n    <g id=\"ytick_2\">\n     <g id=\"line2d_8\">\n      <g>\n       <use style=\"stroke:#000000;stroke-width:0.8;\" x=\"47.40625\" xlink:href=\"#m096afc6add\" y=\"192.193125\"/>\n      </g>\n     </g>\n     <g id=\"text_8\">\n      <!-- MLR -->\n      <g transform=\"translate(19.257812 195.992344)scale(0.1 -0.1)\">\n       <defs>\n        <path d=\"M 9.8125 72.90625 \nL 24.515625 72.90625 \nL 43.109375 23.296875 \nL 61.8125 72.90625 \nL 76.515625 72.90625 \nL 76.515625 0 \nL 66.890625 0 \nL 66.890625 64.015625 \nL 48.09375 14.015625 \nL 38.1875 14.015625 \nL 19.390625 64.015625 \nL 19.390625 0 \nL 9.8125 0 \nz\n\" id=\"DejaVuSans-77\"/>\n        <path d=\"M 44.390625 34.1875 \nQ 47.5625 33.109375 50.5625 29.59375 \nQ 53.5625 26.078125 56.59375 19.921875 \nL 66.609375 0 \nL 56 0 \nL 46.6875 18.703125 \nQ 43.0625 26.03125 39.671875 28.421875 \nQ 36.28125 30.8125 30.421875 30.8125 \nL 19.671875 30.8125 \nL 19.671875 0 \nL 9.8125 0 \nL 9.8125 72.90625 \nL 32.078125 72.90625 \nQ 44.578125 72.90625 50.734375 67.671875 \nQ 56.890625 62.453125 56.890625 51.90625 \nQ 56.890625 45.015625 53.6875 40.46875 \nQ 50.484375 35.9375 44.390625 34.1875 \nz\nM 19.671875 64.796875 \nL 19.671875 38.921875 \nL 32.078125 38.921875 \nQ 39.203125 38.921875 42.84375 42.21875 \nQ 46.484375 45.515625 46.484375 51.90625 \nQ 46.484375 58.296875 42.84375 61.546875 \nQ 39.203125 64.796875 32.078125 64.796875 \nz\n\" id=\"DejaVuSans-82\"/>\n       </defs>\n       <use xlink:href=\"#DejaVuSans-77\"/>\n       <use x=\"86.279297\" xlink:href=\"#DejaVuSans-76\"/>\n       <use x=\"141.992188\" xlink:href=\"#DejaVuSans-82\"/>\n      </g>\n     </g>\n    </g>\n    <g id=\"ytick_3\">\n     <g id=\"line2d_9\">\n      <g>\n       <use style=\"stroke:#000000;stroke-width:0.8;\" x=\"47.40625\" xlink:href=\"#m096afc6add\" y=\"124.243125\"/>\n      </g>\n     </g>\n     <g id=\"text_9\">\n      <!-- KNN -->\n      <g transform=\"translate(18.885937 128.042344)scale(0.1 -0.1)\">\n       <defs>\n        <path d=\"M 9.8125 72.90625 \nL 19.671875 72.90625 \nL 19.671875 42.09375 \nL 52.390625 72.90625 \nL 65.09375 72.90625 \nL 28.90625 38.921875 \nL 67.671875 0 \nL 54.6875 0 \nL 19.671875 35.109375 \nL 19.671875 0 \nL 9.8125 0 \nz\n\" id=\"DejaVuSans-75\"/>\n       </defs>\n       <use xlink:href=\"#DejaVuSans-75\"/>\n       <use x=\"65.576172\" xlink:href=\"#DejaVuSans-78\"/>\n       <use x=\"140.380859\" xlink:href=\"#DejaVuSans-78\"/>\n      </g>\n     </g>\n    </g>\n    <g id=\"ytick_4\">\n     <g id=\"line2d_10\">\n      <g>\n       <use style=\"stroke:#000000;stroke-width:0.8;\" x=\"47.40625\" xlink:href=\"#m096afc6add\" y=\"56.293125\"/>\n      </g>\n     </g>\n     <g id=\"text_10\">\n      <!-- LASSO -->\n      <g transform=\"translate(7.2 60.092344)scale(0.1 -0.1)\">\n       <defs>\n        <path d=\"M 34.1875 63.1875 \nL 20.796875 26.90625 \nL 47.609375 26.90625 \nz\nM 28.609375 72.90625 \nL 39.796875 72.90625 \nL 67.578125 0 \nL 57.328125 0 \nL 50.6875 18.703125 \nL 17.828125 18.703125 \nL 11.1875 0 \nL 0.78125 0 \nz\n\" id=\"DejaVuSans-65\"/>\n        <path d=\"M 53.515625 70.515625 \nL 53.515625 60.890625 \nQ 47.90625 63.578125 42.921875 64.890625 \nQ 37.9375 66.21875 33.296875 66.21875 \nQ 25.25 66.21875 20.875 63.09375 \nQ 16.5 59.96875 16.5 54.203125 \nQ 16.5 49.359375 19.40625 46.890625 \nQ 22.3125 44.4375 30.421875 42.921875 \nL 36.375 41.703125 \nQ 47.40625 39.59375 52.65625 34.296875 \nQ 57.90625 29 57.90625 20.125 \nQ 57.90625 9.515625 50.796875 4.046875 \nQ 43.703125 -1.421875 29.984375 -1.421875 \nQ 24.8125 -1.421875 18.96875 -0.25 \nQ 13.140625 0.921875 6.890625 3.21875 \nL 6.890625 13.375 \nQ 12.890625 10.015625 18.65625 8.296875 \nQ 24.421875 6.59375 29.984375 6.59375 \nQ 38.421875 6.59375 43.015625 9.90625 \nQ 47.609375 13.234375 47.609375 19.390625 \nQ 47.609375 24.75 44.3125 27.78125 \nQ 41.015625 30.8125 33.5 32.328125 \nL 27.484375 33.5 \nQ 16.453125 35.6875 11.515625 40.375 \nQ 6.59375 45.0625 6.59375 53.421875 \nQ 6.59375 63.09375 13.40625 68.65625 \nQ 20.21875 74.21875 32.171875 74.21875 \nQ 37.3125 74.21875 42.625 73.28125 \nQ 47.953125 72.359375 53.515625 70.515625 \nz\n\" id=\"DejaVuSans-83\"/>\n        <path d=\"M 39.40625 66.21875 \nQ 28.65625 66.21875 22.328125 58.203125 \nQ 16.015625 50.203125 16.015625 36.375 \nQ 16.015625 22.609375 22.328125 14.59375 \nQ 28.65625 6.59375 39.40625 6.59375 \nQ 50.140625 6.59375 56.421875 14.59375 \nQ 62.703125 22.609375 62.703125 36.375 \nQ 62.703125 50.203125 56.421875 58.203125 \nQ 50.140625 66.21875 39.40625 66.21875 \nz\nM 39.40625 74.21875 \nQ 54.734375 74.21875 63.90625 63.9375 \nQ 73.09375 53.65625 73.09375 36.375 \nQ 73.09375 19.140625 63.90625 8.859375 \nQ 54.734375 -1.421875 39.40625 -1.421875 \nQ 24.03125 -1.421875 14.8125 8.828125 \nQ 5.609375 19.09375 5.609375 36.375 \nQ 5.609375 53.65625 14.8125 63.9375 \nQ 24.03125 74.21875 39.40625 74.21875 \nz\n\" id=\"DejaVuSans-79\"/>\n       </defs>\n       <use xlink:href=\"#DejaVuSans-76\"/>\n       <use x=\"57.962891\" xlink:href=\"#DejaVuSans-65\"/>\n       <use x=\"126.371094\" xlink:href=\"#DejaVuSans-83\"/>\n       <use x=\"189.847656\" xlink:href=\"#DejaVuSans-83\"/>\n       <use x=\"253.324219\" xlink:href=\"#DejaVuSans-79\"/>\n      </g>\n     </g>\n    </g>\n   </g>\n   <g id=\"patch_7\">\n    <path d=\"M 47.40625 294.118125 \nL 47.40625 22.318125 \n\" style=\"fill:none;stroke:#000000;stroke-linecap:square;stroke-linejoin:miter;stroke-width:0.8;\"/>\n   </g>\n   <g id=\"patch_8\">\n    <path d=\"M 493.80625 294.118125 \nL 493.80625 22.318125 \n\" style=\"fill:none;stroke:#000000;stroke-linecap:square;stroke-linejoin:miter;stroke-width:0.8;\"/>\n   </g>\n   <g id=\"patch_9\">\n    <path d=\"M 47.40625 294.118125 \nL 493.80625 294.118125 \n\" style=\"fill:none;stroke:#000000;stroke-linecap:square;stroke-linejoin:miter;stroke-width:0.8;\"/>\n   </g>\n   <g id=\"patch_10\">\n    <path d=\"M 47.40625 22.318125 \nL 493.80625 22.318125 \n\" style=\"fill:none;stroke:#000000;stroke-linecap:square;stroke-linejoin:miter;stroke-width:0.8;\"/>\n   </g>\n   <g id=\"text_11\">\n    <!-- MSE for Regression Models Using top 10 correlated features -->\n    <g transform=\"translate(90.7675 16.318125)scale(0.12 -0.12)\">\n     <defs>\n      <path d=\"M 9.8125 72.90625 \nL 55.90625 72.90625 \nL 55.90625 64.59375 \nL 19.671875 64.59375 \nL 19.671875 43.015625 \nL 54.390625 43.015625 \nL 54.390625 34.71875 \nL 19.671875 34.71875 \nL 19.671875 8.296875 \nL 56.78125 8.296875 \nL 56.78125 0 \nL 9.8125 0 \nz\n\" id=\"DejaVuSans-69\"/>\n      <path id=\"DejaVuSans-32\"/>\n      <path d=\"M 37.109375 75.984375 \nL 37.109375 68.5 \nL 28.515625 68.5 \nQ 23.6875 68.5 21.796875 66.546875 \nQ 19.921875 64.59375 19.921875 59.515625 \nL 19.921875 54.6875 \nL 34.71875 54.6875 \nL 34.71875 47.703125 \nL 19.921875 47.703125 \nL 19.921875 0 \nL 10.890625 0 \nL 10.890625 47.703125 \nL 2.296875 47.703125 \nL 2.296875 54.6875 \nL 10.890625 54.6875 \nL 10.890625 58.5 \nQ 10.890625 67.625 15.140625 71.796875 \nQ 19.390625 75.984375 28.609375 75.984375 \nz\n\" id=\"DejaVuSans-102\"/>\n      <path d=\"M 30.609375 48.390625 \nQ 23.390625 48.390625 19.1875 42.75 \nQ 14.984375 37.109375 14.984375 27.296875 \nQ 14.984375 17.484375 19.15625 11.84375 \nQ 23.34375 6.203125 30.609375 6.203125 \nQ 37.796875 6.203125 41.984375 11.859375 \nQ 46.1875 17.53125 46.1875 27.296875 \nQ 46.1875 37.015625 41.984375 42.703125 \nQ 37.796875 48.390625 30.609375 48.390625 \nz\nM 30.609375 56 \nQ 42.328125 56 49.015625 48.375 \nQ 55.71875 40.765625 55.71875 27.296875 \nQ 55.71875 13.875 49.015625 6.21875 \nQ 42.328125 -1.421875 30.609375 -1.421875 \nQ 18.84375 -1.421875 12.171875 6.21875 \nQ 5.515625 13.875 5.515625 27.296875 \nQ 5.515625 40.765625 12.171875 48.375 \nQ 18.84375 56 30.609375 56 \nz\n\" id=\"DejaVuSans-111\"/>\n      <path d=\"M 41.109375 46.296875 \nQ 39.59375 47.171875 37.8125 47.578125 \nQ 36.03125 48 33.890625 48 \nQ 26.265625 48 22.1875 43.046875 \nQ 18.109375 38.09375 18.109375 28.8125 \nL 18.109375 0 \nL 9.078125 0 \nL 9.078125 54.6875 \nL 18.109375 54.6875 \nL 18.109375 46.1875 \nQ 20.953125 51.171875 25.484375 53.578125 \nQ 30.03125 56 36.53125 56 \nQ 37.453125 56 38.578125 55.875 \nQ 39.703125 55.765625 41.0625 55.515625 \nz\n\" id=\"DejaVuSans-114\"/>\n      <path d=\"M 56.203125 29.59375 \nL 56.203125 25.203125 \nL 14.890625 25.203125 \nQ 15.484375 15.921875 20.484375 11.0625 \nQ 25.484375 6.203125 34.421875 6.203125 \nQ 39.59375 6.203125 44.453125 7.46875 \nQ 49.3125 8.734375 54.109375 11.28125 \nL 54.109375 2.78125 \nQ 49.265625 0.734375 44.1875 -0.34375 \nQ 39.109375 -1.421875 33.890625 -1.421875 \nQ 20.796875 -1.421875 13.15625 6.1875 \nQ 5.515625 13.8125 5.515625 26.8125 \nQ 5.515625 40.234375 12.765625 48.109375 \nQ 20.015625 56 32.328125 56 \nQ 43.359375 56 49.78125 48.890625 \nQ 56.203125 41.796875 56.203125 29.59375 \nz\nM 47.21875 32.234375 \nQ 47.125 39.59375 43.09375 43.984375 \nQ 39.0625 48.390625 32.421875 48.390625 \nQ 24.90625 48.390625 20.390625 44.140625 \nQ 15.875 39.890625 15.1875 32.171875 \nz\n\" id=\"DejaVuSans-101\"/>\n      <path d=\"M 45.40625 27.984375 \nQ 45.40625 37.75 41.375 43.109375 \nQ 37.359375 48.484375 30.078125 48.484375 \nQ 22.859375 48.484375 18.828125 43.109375 \nQ 14.796875 37.75 14.796875 27.984375 \nQ 14.796875 18.265625 18.828125 12.890625 \nQ 22.859375 7.515625 30.078125 7.515625 \nQ 37.359375 7.515625 41.375 12.890625 \nQ 45.40625 18.265625 45.40625 27.984375 \nz\nM 54.390625 6.78125 \nQ 54.390625 -7.171875 48.1875 -13.984375 \nQ 42 -20.796875 29.203125 -20.796875 \nQ 24.46875 -20.796875 20.265625 -20.09375 \nQ 16.0625 -19.390625 12.109375 -17.921875 \nL 12.109375 -9.1875 \nQ 16.0625 -11.328125 19.921875 -12.34375 \nQ 23.78125 -13.375 27.78125 -13.375 \nQ 36.625 -13.375 41.015625 -8.765625 \nQ 45.40625 -4.15625 45.40625 5.171875 \nL 45.40625 9.625 \nQ 42.625 4.78125 38.28125 2.390625 \nQ 33.9375 0 27.875 0 \nQ 17.828125 0 11.671875 7.65625 \nQ 5.515625 15.328125 5.515625 27.984375 \nQ 5.515625 40.671875 11.671875 48.328125 \nQ 17.828125 56 27.875 56 \nQ 33.9375 56 38.28125 53.609375 \nQ 42.625 51.21875 45.40625 46.390625 \nL 45.40625 54.6875 \nL 54.390625 54.6875 \nz\n\" id=\"DejaVuSans-103\"/>\n      <path d=\"M 44.28125 53.078125 \nL 44.28125 44.578125 \nQ 40.484375 46.53125 36.375 47.5 \nQ 32.28125 48.484375 27.875 48.484375 \nQ 21.1875 48.484375 17.84375 46.4375 \nQ 14.5 44.390625 14.5 40.28125 \nQ 14.5 37.15625 16.890625 35.375 \nQ 19.28125 33.59375 26.515625 31.984375 \nL 29.59375 31.296875 \nQ 39.15625 29.25 43.1875 25.515625 \nQ 47.21875 21.78125 47.21875 15.09375 \nQ 47.21875 7.46875 41.1875 3.015625 \nQ 35.15625 -1.421875 24.609375 -1.421875 \nQ 20.21875 -1.421875 15.453125 -0.5625 \nQ 10.6875 0.296875 5.421875 2 \nL 5.421875 11.28125 \nQ 10.40625 8.6875 15.234375 7.390625 \nQ 20.0625 6.109375 24.8125 6.109375 \nQ 31.15625 6.109375 34.5625 8.28125 \nQ 37.984375 10.453125 37.984375 14.40625 \nQ 37.984375 18.0625 35.515625 20.015625 \nQ 33.0625 21.96875 24.703125 23.78125 \nL 21.578125 24.515625 \nQ 13.234375 26.265625 9.515625 29.90625 \nQ 5.8125 33.546875 5.8125 39.890625 \nQ 5.8125 47.609375 11.28125 51.796875 \nQ 16.75 56 26.8125 56 \nQ 31.78125 56 36.171875 55.265625 \nQ 40.578125 54.546875 44.28125 53.078125 \nz\n\" id=\"DejaVuSans-115\"/>\n      <path d=\"M 9.421875 54.6875 \nL 18.40625 54.6875 \nL 18.40625 0 \nL 9.421875 0 \nz\nM 9.421875 75.984375 \nL 18.40625 75.984375 \nL 18.40625 64.59375 \nL 9.421875 64.59375 \nz\n\" id=\"DejaVuSans-105\"/>\n      <path d=\"M 54.890625 33.015625 \nL 54.890625 0 \nL 45.90625 0 \nL 45.90625 32.71875 \nQ 45.90625 40.484375 42.875 44.328125 \nQ 39.84375 48.1875 33.796875 48.1875 \nQ 26.515625 48.1875 22.3125 43.546875 \nQ 18.109375 38.921875 18.109375 30.90625 \nL 18.109375 0 \nL 9.078125 0 \nL 9.078125 54.6875 \nL 18.109375 54.6875 \nL 18.109375 46.1875 \nQ 21.34375 51.125 25.703125 53.5625 \nQ 30.078125 56 35.796875 56 \nQ 45.21875 56 50.046875 50.171875 \nQ 54.890625 44.34375 54.890625 33.015625 \nz\n\" id=\"DejaVuSans-110\"/>\n      <path d=\"M 45.40625 46.390625 \nL 45.40625 75.984375 \nL 54.390625 75.984375 \nL 54.390625 0 \nL 45.40625 0 \nL 45.40625 8.203125 \nQ 42.578125 3.328125 38.25 0.953125 \nQ 33.9375 -1.421875 27.875 -1.421875 \nQ 17.96875 -1.421875 11.734375 6.484375 \nQ 5.515625 14.40625 5.515625 27.296875 \nQ 5.515625 40.1875 11.734375 48.09375 \nQ 17.96875 56 27.875 56 \nQ 33.9375 56 38.25 53.625 \nQ 42.578125 51.265625 45.40625 46.390625 \nz\nM 14.796875 27.296875 \nQ 14.796875 17.390625 18.875 11.75 \nQ 22.953125 6.109375 30.078125 6.109375 \nQ 37.203125 6.109375 41.296875 11.75 \nQ 45.40625 17.390625 45.40625 27.296875 \nQ 45.40625 37.203125 41.296875 42.84375 \nQ 37.203125 48.484375 30.078125 48.484375 \nQ 22.953125 48.484375 18.875 42.84375 \nQ 14.796875 37.203125 14.796875 27.296875 \nz\n\" id=\"DejaVuSans-100\"/>\n      <path d=\"M 9.421875 75.984375 \nL 18.40625 75.984375 \nL 18.40625 0 \nL 9.421875 0 \nz\n\" id=\"DejaVuSans-108\"/>\n      <path d=\"M 18.3125 70.21875 \nL 18.3125 54.6875 \nL 36.8125 54.6875 \nL 36.8125 47.703125 \nL 18.3125 47.703125 \nL 18.3125 18.015625 \nQ 18.3125 11.328125 20.140625 9.421875 \nQ 21.96875 7.515625 27.59375 7.515625 \nL 36.8125 7.515625 \nL 36.8125 0 \nL 27.59375 0 \nQ 17.1875 0 13.234375 3.875 \nQ 9.28125 7.765625 9.28125 18.015625 \nL 9.28125 47.703125 \nL 2.6875 47.703125 \nL 2.6875 54.6875 \nL 9.28125 54.6875 \nL 9.28125 70.21875 \nz\n\" id=\"DejaVuSans-116\"/>\n      <path d=\"M 18.109375 8.203125 \nL 18.109375 -20.796875 \nL 9.078125 -20.796875 \nL 9.078125 54.6875 \nL 18.109375 54.6875 \nL 18.109375 46.390625 \nQ 20.953125 51.265625 25.265625 53.625 \nQ 29.59375 56 35.59375 56 \nQ 45.5625 56 51.78125 48.09375 \nQ 58.015625 40.1875 58.015625 27.296875 \nQ 58.015625 14.40625 51.78125 6.484375 \nQ 45.5625 -1.421875 35.59375 -1.421875 \nQ 29.59375 -1.421875 25.265625 0.953125 \nQ 20.953125 3.328125 18.109375 8.203125 \nz\nM 48.6875 27.296875 \nQ 48.6875 37.203125 44.609375 42.84375 \nQ 40.53125 48.484375 33.40625 48.484375 \nQ 26.265625 48.484375 22.1875 42.84375 \nQ 18.109375 37.203125 18.109375 27.296875 \nQ 18.109375 17.390625 22.1875 11.75 \nQ 26.265625 6.109375 33.40625 6.109375 \nQ 40.53125 6.109375 44.609375 11.75 \nQ 48.6875 17.390625 48.6875 27.296875 \nz\n\" id=\"DejaVuSans-112\"/>\n      <path d=\"M 48.78125 52.59375 \nL 48.78125 44.1875 \nQ 44.96875 46.296875 41.140625 47.34375 \nQ 37.3125 48.390625 33.40625 48.390625 \nQ 24.65625 48.390625 19.8125 42.84375 \nQ 14.984375 37.3125 14.984375 27.296875 \nQ 14.984375 17.28125 19.8125 11.734375 \nQ 24.65625 6.203125 33.40625 6.203125 \nQ 37.3125 6.203125 41.140625 7.25 \nQ 44.96875 8.296875 48.78125 10.40625 \nL 48.78125 2.09375 \nQ 45.015625 0.34375 40.984375 -0.53125 \nQ 36.96875 -1.421875 32.421875 -1.421875 \nQ 20.0625 -1.421875 12.78125 6.34375 \nQ 5.515625 14.109375 5.515625 27.296875 \nQ 5.515625 40.671875 12.859375 48.328125 \nQ 20.21875 56 33.015625 56 \nQ 37.15625 56 41.109375 55.140625 \nQ 45.0625 54.296875 48.78125 52.59375 \nz\n\" id=\"DejaVuSans-99\"/>\n      <path d=\"M 34.28125 27.484375 \nQ 23.390625 27.484375 19.1875 25 \nQ 14.984375 22.515625 14.984375 16.5 \nQ 14.984375 11.71875 18.140625 8.90625 \nQ 21.296875 6.109375 26.703125 6.109375 \nQ 34.1875 6.109375 38.703125 11.40625 \nQ 43.21875 16.703125 43.21875 25.484375 \nL 43.21875 27.484375 \nz\nM 52.203125 31.203125 \nL 52.203125 0 \nL 43.21875 0 \nL 43.21875 8.296875 \nQ 40.140625 3.328125 35.546875 0.953125 \nQ 30.953125 -1.421875 24.3125 -1.421875 \nQ 15.921875 -1.421875 10.953125 3.296875 \nQ 6 8.015625 6 15.921875 \nQ 6 25.140625 12.171875 29.828125 \nQ 18.359375 34.515625 30.609375 34.515625 \nL 43.21875 34.515625 \nL 43.21875 35.40625 \nQ 43.21875 41.609375 39.140625 45 \nQ 35.0625 48.390625 27.6875 48.390625 \nQ 23 48.390625 18.546875 47.265625 \nQ 14.109375 46.140625 10.015625 43.890625 \nL 10.015625 52.203125 \nQ 14.9375 54.109375 19.578125 55.046875 \nQ 24.21875 56 28.609375 56 \nQ 40.484375 56 46.34375 49.84375 \nQ 52.203125 43.703125 52.203125 31.203125 \nz\n\" id=\"DejaVuSans-97\"/>\n      <path d=\"M 8.5 21.578125 \nL 8.5 54.6875 \nL 17.484375 54.6875 \nL 17.484375 21.921875 \nQ 17.484375 14.15625 20.5 10.265625 \nQ 23.53125 6.390625 29.59375 6.390625 \nQ 36.859375 6.390625 41.078125 11.03125 \nQ 45.3125 15.671875 45.3125 23.6875 \nL 45.3125 54.6875 \nL 54.296875 54.6875 \nL 54.296875 0 \nL 45.3125 0 \nL 45.3125 8.40625 \nQ 42.046875 3.421875 37.71875 1 \nQ 33.40625 -1.421875 27.6875 -1.421875 \nQ 18.265625 -1.421875 13.375 4.4375 \nQ 8.5 10.296875 8.5 21.578125 \nz\nM 31.109375 56 \nz\n\" id=\"DejaVuSans-117\"/>\n     </defs>\n     <use xlink:href=\"#DejaVuSans-77\"/>\n     <use x=\"86.279297\" xlink:href=\"#DejaVuSans-83\"/>\n     <use x=\"149.755859\" xlink:href=\"#DejaVuSans-69\"/>\n     <use x=\"212.939453\" xlink:href=\"#DejaVuSans-32\"/>\n     <use x=\"244.726562\" xlink:href=\"#DejaVuSans-102\"/>\n     <use x=\"279.931641\" xlink:href=\"#DejaVuSans-111\"/>\n     <use x=\"341.113281\" xlink:href=\"#DejaVuSans-114\"/>\n     <use x=\"382.226562\" xlink:href=\"#DejaVuSans-32\"/>\n     <use x=\"414.013672\" xlink:href=\"#DejaVuSans-82\"/>\n     <use x=\"478.996094\" xlink:href=\"#DejaVuSans-101\"/>\n     <use x=\"540.519531\" xlink:href=\"#DejaVuSans-103\"/>\n     <use x=\"603.996094\" xlink:href=\"#DejaVuSans-114\"/>\n     <use x=\"642.859375\" xlink:href=\"#DejaVuSans-101\"/>\n     <use x=\"704.382812\" xlink:href=\"#DejaVuSans-115\"/>\n     <use x=\"756.482422\" xlink:href=\"#DejaVuSans-115\"/>\n     <use x=\"808.582031\" xlink:href=\"#DejaVuSans-105\"/>\n     <use x=\"836.365234\" xlink:href=\"#DejaVuSans-111\"/>\n     <use x=\"897.546875\" xlink:href=\"#DejaVuSans-110\"/>\n     <use x=\"960.925781\" xlink:href=\"#DejaVuSans-32\"/>\n     <use x=\"992.712891\" xlink:href=\"#DejaVuSans-77\"/>\n     <use x=\"1078.992188\" xlink:href=\"#DejaVuSans-111\"/>\n     <use x=\"1140.173828\" xlink:href=\"#DejaVuSans-100\"/>\n     <use x=\"1203.650391\" xlink:href=\"#DejaVuSans-101\"/>\n     <use x=\"1265.173828\" xlink:href=\"#DejaVuSans-108\"/>\n     <use x=\"1292.957031\" xlink:href=\"#DejaVuSans-115\"/>\n     <use x=\"1345.056641\" xlink:href=\"#DejaVuSans-32\"/>\n     <use x=\"1376.84375\" xlink:href=\"#DejaVuSans-85\"/>\n     <use x=\"1450.037109\" xlink:href=\"#DejaVuSans-115\"/>\n     <use x=\"1502.136719\" xlink:href=\"#DejaVuSans-105\"/>\n     <use x=\"1529.919922\" xlink:href=\"#DejaVuSans-110\"/>\n     <use x=\"1593.298828\" xlink:href=\"#DejaVuSans-103\"/>\n     <use x=\"1656.775391\" xlink:href=\"#DejaVuSans-32\"/>\n     <use x=\"1688.5625\" xlink:href=\"#DejaVuSans-116\"/>\n     <use x=\"1727.771484\" xlink:href=\"#DejaVuSans-111\"/>\n     <use x=\"1788.953125\" xlink:href=\"#DejaVuSans-112\"/>\n     <use x=\"1852.429688\" xlink:href=\"#DejaVuSans-32\"/>\n     <use x=\"1884.216797\" xlink:href=\"#DejaVuSans-49\"/>\n     <use x=\"1947.839844\" xlink:href=\"#DejaVuSans-48\"/>\n     <use x=\"2011.462891\" xlink:href=\"#DejaVuSans-32\"/>\n     <use x=\"2043.25\" xlink:href=\"#DejaVuSans-99\"/>\n     <use x=\"2098.230469\" xlink:href=\"#DejaVuSans-111\"/>\n     <use x=\"2159.412109\" xlink:href=\"#DejaVuSans-114\"/>\n     <use x=\"2198.775391\" xlink:href=\"#DejaVuSans-114\"/>\n     <use x=\"2237.638672\" xlink:href=\"#DejaVuSans-101\"/>\n     <use x=\"2299.162109\" xlink:href=\"#DejaVuSans-108\"/>\n     <use x=\"2326.945312\" xlink:href=\"#DejaVuSans-97\"/>\n     <use x=\"2388.224609\" xlink:href=\"#DejaVuSans-116\"/>\n     <use x=\"2427.433594\" xlink:href=\"#DejaVuSans-101\"/>\n     <use x=\"2488.957031\" xlink:href=\"#DejaVuSans-100\"/>\n     <use x=\"2552.433594\" xlink:href=\"#DejaVuSans-32\"/>\n     <use x=\"2584.220703\" xlink:href=\"#DejaVuSans-102\"/>\n     <use x=\"2619.425781\" xlink:href=\"#DejaVuSans-101\"/>\n     <use x=\"2680.949219\" xlink:href=\"#DejaVuSans-97\"/>\n     <use x=\"2742.228516\" xlink:href=\"#DejaVuSans-116\"/>\n     <use x=\"2781.4375\" xlink:href=\"#DejaVuSans-117\"/>\n     <use x=\"2844.816406\" xlink:href=\"#DejaVuSans-114\"/>\n     <use x=\"2883.679688\" xlink:href=\"#DejaVuSans-101\"/>\n     <use x=\"2945.203125\" xlink:href=\"#DejaVuSans-115\"/>\n    </g>\n   </g>\n   <g id=\"legend_1\">\n    <g id=\"patch_11\">\n     <path d=\"M 54.40625 289.118125 \nL 184.04375 289.118125 \nQ 186.04375 289.118125 186.04375 287.118125 \nL 186.04375 273.161875 \nQ 186.04375 271.161875 184.04375 271.161875 \nL 54.40625 271.161875 \nQ 52.40625 271.161875 52.40625 273.161875 \nL 52.40625 287.118125 \nQ 52.40625 289.118125 54.40625 289.118125 \nz\n\" style=\"fill:#ffffff;opacity:0.8;stroke:#cccccc;stroke-linejoin:miter;\"/>\n    </g>\n    <g id=\"patch_12\">\n     <path d=\"M 56.40625 282.760313 \nL 76.40625 282.760313 \nL 76.40625 275.760313 \nL 56.40625 275.760313 \nz\n\" style=\"fill:#1f77b4;\"/>\n    </g>\n    <g id=\"text_12\">\n     <!-- top10_featues_mse -->\n     <g transform=\"translate(84.40625 282.760313)scale(0.1 -0.1)\">\n      <defs>\n       <path d=\"M 50.984375 -16.609375 \nL 50.984375 -23.578125 \nL -0.984375 -23.578125 \nL -0.984375 -16.609375 \nz\n\" id=\"DejaVuSans-95\"/>\n       <path d=\"M 52 44.1875 \nQ 55.375 50.25 60.0625 53.125 \nQ 64.75 56 71.09375 56 \nQ 79.640625 56 84.28125 50.015625 \nQ 88.921875 44.046875 88.921875 33.015625 \nL 88.921875 0 \nL 79.890625 0 \nL 79.890625 32.71875 \nQ 79.890625 40.578125 77.09375 44.375 \nQ 74.3125 48.1875 68.609375 48.1875 \nQ 61.625 48.1875 57.5625 43.546875 \nQ 53.515625 38.921875 53.515625 30.90625 \nL 53.515625 0 \nL 44.484375 0 \nL 44.484375 32.71875 \nQ 44.484375 40.625 41.703125 44.40625 \nQ 38.921875 48.1875 33.109375 48.1875 \nQ 26.21875 48.1875 22.15625 43.53125 \nQ 18.109375 38.875 18.109375 30.90625 \nL 18.109375 0 \nL 9.078125 0 \nL 9.078125 54.6875 \nL 18.109375 54.6875 \nL 18.109375 46.1875 \nQ 21.1875 51.21875 25.484375 53.609375 \nQ 29.78125 56 35.6875 56 \nQ 41.65625 56 45.828125 52.96875 \nQ 50 49.953125 52 44.1875 \nz\n\" id=\"DejaVuSans-109\"/>\n      </defs>\n      <use xlink:href=\"#DejaVuSans-116\"/>\n      <use x=\"39.208984\" xlink:href=\"#DejaVuSans-111\"/>\n      <use x=\"100.390625\" xlink:href=\"#DejaVuSans-112\"/>\n      <use x=\"163.867188\" xlink:href=\"#DejaVuSans-49\"/>\n      <use x=\"227.490234\" xlink:href=\"#DejaVuSans-48\"/>\n      <use x=\"291.113281\" xlink:href=\"#DejaVuSans-95\"/>\n      <use x=\"341.113281\" xlink:href=\"#DejaVuSans-102\"/>\n      <use x=\"376.318359\" xlink:href=\"#DejaVuSans-101\"/>\n      <use x=\"437.841797\" xlink:href=\"#DejaVuSans-97\"/>\n      <use x=\"499.121094\" xlink:href=\"#DejaVuSans-116\"/>\n      <use x=\"538.330078\" xlink:href=\"#DejaVuSans-117\"/>\n      <use x=\"601.708984\" xlink:href=\"#DejaVuSans-101\"/>\n      <use x=\"663.232422\" xlink:href=\"#DejaVuSans-115\"/>\n      <use x=\"715.332031\" xlink:href=\"#DejaVuSans-95\"/>\n      <use x=\"765.332031\" xlink:href=\"#DejaVuSans-109\"/>\n      <use x=\"862.744141\" xlink:href=\"#DejaVuSans-115\"/>\n      <use x=\"914.84375\" xlink:href=\"#DejaVuSans-101\"/>\n     </g>\n    </g>\n   </g>\n  </g>\n </g>\n <defs>\n  <clipPath id=\"p6116e2e727\">\n   <rect height=\"271.8\" width=\"446.4\" x=\"47.40625\" y=\"22.318125\"/>\n  </clipPath>\n </defs>\n</svg>\n",
      "image/png": "[encoded data removed]"
     },
     "metadata": {
      "needs_background": "light"
     }
    }
   ],
   "source": [
    "fig, ax = plt.subplots(figsize=(8,5))\n",
    "models.loc['top10_featues_mse'].plot(kind='barh', ax=ax)\n",
    "ax.set_title('MSE for Regression Models Using top 10 correlated features')\n",
    "ax.legend(loc=3);"
   ]
  },
  {
   "cell_type": "markdown",
   "metadata": {},
   "source": [
    "# Using all the features"
   ]
  },
  {
   "cell_type": "code",
   "execution_count": 38,
   "metadata": {
    "collapsed": true
   },
   "outputs": [],
   "source": [
    "target_name = 'ViolentCrimesPerPop'\n",
    "X = crime.drop('ViolentCrimesPerPop', axis=1)\n",
    "y = crime[target_name]\n",
    "X_train, X_test, y_train, y_test = train_test_split(X, y, test_size=0.2, random_state=13)"
   ]
  },
  {
   "cell_type": "markdown",
   "metadata": {},
   "source": [
    "### Preparing a DataFrame for model analysis"
   ]
  },
  {
   "cell_type": "markdown",
   "metadata": {},
   "source": [
    "## The Null model: always predict the average of the target"
   ]
  },
  {
   "cell_type": "code",
   "execution_count": 39,
   "metadata": {
    "collapsed": true,
    "scrolled": true
   },
   "outputs": [],
   "source": [
    "y_pred_null = y_train.mean()\n",
    "models.loc['full_model_mse','NULL'] = mean_squared_error(y_pred=np.repeat(y_pred_null, y_test.size), \n",
    "                                                   y_true=y_test)"
   ]
  },
  {
   "cell_type": "markdown",
   "metadata": {},
   "source": [
    "## A. Multiple Linear Regression"
   ]
  },
  {
   "cell_type": "code",
   "execution_count": 40,
   "metadata": {},
   "outputs": [],
   "source": [
    "# 1. Import the estimator object (model)\n",
    "#from sklearn.linear_model import LinearRegression\n",
    "# 2. Create an instance of the estimator\n",
    "linear_regression = LinearRegression()\n",
    "# 3. Use the trainning data to train the estimator\n",
    "linear_regression.fit(X_train, y_train)\n",
    "# 4. Evaluate the model\n",
    "models.loc['full_model_mse','MLR'] = mean_squared_error(y_pred=linear_regression.predict(X_test), \n",
    "                                                   y_true=y_test)"
   ]
  },
  {
   "cell_type": "markdown",
   "metadata": {},
   "source": [
    "## B. K-Nearest Neighbor Model"
   ]
  },
  {
   "cell_type": "code",
   "execution_count": 41,
   "metadata": {
    "collapsed": true
   },
   "outputs": [],
   "source": [
    "# 1. Import the estimator object (model)\n",
    "#from sklearn.neighbors import KNeighborsRegressor\n",
    "# 2. Create an instance of the estimator\n",
    "knn = KNeighborsRegressor(n_neighbors=10, weights='distance', metric='euclidean')\n",
    "# 3. Use the trainning data to train the estimator\n",
    "knn.fit(X_train, y_train)\n",
    "# 4. Evaluate the model\n",
    "models.loc['full_model_mse','KNN'] = mean_squared_error(y_pred=knn.predict(X_test), \n",
    "                                                   y_true=y_test)"
   ]
  },
  {
   "cell_type": "markdown",
   "metadata": {},
   "source": [
    "## C. Lasso"
   ]
  },
  {
   "cell_type": "code",
   "execution_count": 42,
   "metadata": {
    "collapsed": true
   },
   "outputs": [],
   "source": [
    "# 1. Import the estimator object (model)\n",
    "#from sklearn.linear_model import Lasso\n",
    "# 2. Create an instance of the estimator\n",
    "lasso = Lasso(alpha=0.0005)\n",
    "# 3. Use the trainning data to train the estimator\n",
    "lasso.fit(X_train, y_train)\n",
    "# 4. Evaluate the model\n",
    "models.loc['full_model_mse','LASSO'] = mean_squared_error(y_pred=lasso.predict(X_test), \n",
    "                                                   y_true=y_test)"
   ]
  },
  {
   "cell_type": "code",
   "execution_count": 47,
   "metadata": {},
   "outputs": [
    {
     "data": {
      "text/plain": "<Figure size 576x360 with 1 Axes>",
      "image/png": "[encoded data removed]"
     },
     "metadata": {
      "needs_background": "light"
     },
     "output_type": "display_data"
    }
   ],
   "source": [
    "fig, ax = plt.subplots(figsize=(8,5))\n",
    "models.T.plot(kind='barh', ax=ax)\n",
    "ax.set_title('MSE for Regression Models')\n",
    "ax.legend(loc=3);"
   ]
  },
  {
   "cell_type": "code",
   "execution_count": 48,
   "metadata": {},
   "outputs": [
    {
     "data": {
      "text/plain": "                       NULL       MLR       KNN     LASSO\ntop10_featues_mse  0.055734  0.023512  0.022134  0.023321\nfull_model_mse     0.056681  0.018160  0.019748  0.018320",
      "text/html": "<div>\n<style scoped>\n    .dataframe tbody tr th:only-of-type {\n        vertical-align: middle;\n    }\n\n    .dataframe tbody tr th {\n        vertical-align: top;\n    }\n\n    .dataframe thead th {\n        text-align: right;\n    }\n</style>\n<table border=\"1\" class=\"dataframe\">\n  <thead>\n    <tr style=\"text-align: right;\">\n      <th></th>\n      <th>NULL</th>\n      <th>MLR</th>\n      <th>KNN</th>\n      <th>LASSO</th>\n    </tr>\n  </thead>\n  <tbody>\n    <tr>\n      <th>top10_featues_mse</th>\n      <td>0.055734</td>\n      <td>0.023512</td>\n      <td>0.022134</td>\n      <td>0.023321</td>\n    </tr>\n    <tr>\n      <th>full_model_mse</th>\n      <td>0.056681</td>\n      <td>0.018160</td>\n      <td>0.019748</td>\n      <td>0.018320</td>\n    </tr>\n  </tbody>\n</table>\n</div>"
     },
     "execution_count": 48,
     "metadata": {},
     "output_type": "execute_result"
    }
   ],
   "source": [
    "models"
   ]
  },
  {
   "cell_type": "code",
   "execution_count": 46,
   "metadata": {},
   "outputs": [
    {
     "output_type": "execute_result",
     "data": {
      "text/plain": [
       "array([ 0.        ,  0.        ,  0.15646265, -0.04904297, -0.        ,\n",
       "        0.        , -0.        , -0.05557812, -0.        ,  0.        ,\n",
       "       -0.        ,  0.03070327,  0.        , -0.        ,  0.        ,\n",
       "       -0.03979645,  0.        ,  0.        , -0.        ,  0.        ,\n",
       "        0.        ,  0.        , -0.        , -0.01142896,  0.0039498 ,\n",
       "        0.        , -0.        , -0.        , -0.        ,  0.        ,\n",
       "       -0.        , -0.        ,  0.        , -0.00832127, -0.        ,\n",
       "        0.        , -0.        ,  0.09674226, -0.        ,  0.        ,\n",
       "        0.        ,  0.        , -0.        , -0.2493747 , -0.02972306,\n",
       "       -0.        , -0.        , -0.06133648, -0.        ,  0.19425195,\n",
       "       -0.        , -0.        , -0.        , -0.        , -0.        ,\n",
       "        0.        ,  0.        ,  0.        ,  0.        , -0.        ,\n",
       "        0.        ,  0.        ,  0.        ,  0.        , -0.        ,\n",
       "        0.        , -0.        ,  0.1293739 ,  0.        ,  0.        ,\n",
       "        0.13734332, -0.06317543,  0.        ,  0.01839931, -0.01359579,\n",
       "        0.        ,  0.        , -0.        ,  0.        ,  0.        ,\n",
       "        0.        , -0.        ,  0.        ,  0.        ,  0.03713671,\n",
       "        0.02015496,  0.        , -0.0545406 ,  0.00214652,  0.1035178 ,\n",
       "        0.00509357, -0.00080959, -0.        ,  0.02516396,  0.        ,\n",
       "        0.        , -0.        , -0.        ,  0.01570146])"
      ]
     },
     "metadata": {},
     "execution_count": 46
    }
   ],
   "source": [
    "lasso.coef_"
   ]
  },
  {
   "cell_type": "code",
   "execution_count": 49,
   "metadata": {
    "scrolled": true
   },
   "outputs": [
    {
     "name": "stdout",
     "output_type": "stream",
     "text": [
      "Features automatically choosen by Lasso:\n",
      "\n",
      "1.racepctblack\n",
      "2.pctUrban\n",
      "3.AsianPerCap\n",
      "4.OtherPerCap\n",
      "5.MalePctDivorce\n",
      "6.PctIlleg\n",
      "7.PctPersDenseHous\n",
      "8.HousVacant\n",
      "9.PctVacantBoarded\n",
      "10.MedRent\n",
      "11.MedRentPctHousInc\n",
      "12.NumInShelters\n",
      "13.NumStreet\n",
      "14.PctForeignBorn\n",
      "15.PctSameCity85\n",
      "16.LemasPctOfficDrugUn\n"
     ]
    }
   ],
   "source": [
    "print('Features automatically choosen by Lasso:\\n')\n",
    "for i,var in enumerate(X.columns[lasso.coef_>0]):\n",
    "    print(\"{}.{}\".format(i+1, var))"
   ]
  },
  {
   "cell_type": "markdown",
   "metadata": {},
   "source": [
    "## Predicting violent crime"
   ]
  },
  {
   "cell_type": "code",
   "execution_count": 47,
   "metadata": {},
   "outputs": [
    {
     "output_type": "execute_result",
     "data": {
      "text/plain": [
       "Lasso(alpha=0.0005)"
      ]
     },
     "metadata": {},
     "execution_count": 47
    }
   ],
   "source": [
    "# Retraining the best model\n",
    "lasso_final = Lasso(alpha=0.0005)\n",
    "lasso_final.fit(X, y)"
   ]
  },
  {
   "cell_type": "code",
   "execution_count": 49,
   "metadata": {},
   "outputs": [
    {
     "output_type": "execute_result",
     "data": {
      "text/plain": [
       "population             0.13\n",
       "householdsize          0.71\n",
       "racepctblack           0.15\n",
       "racePctWhite           0.07\n",
       "racePctAsian           1.00\n",
       "                       ... \n",
       "PctSameState85         0.62\n",
       "LandArea               0.02\n",
       "PopDens                1.00\n",
       "PctUsePubTrans         1.00\n",
       "LemasPctOfficDrugUn    0.00\n",
       "Name: DalyCitycity, Length: 99, dtype: float64"
      ]
     },
     "metadata": {},
     "execution_count": 49
    }
   ],
   "source": [
    "new_city = crime.iloc[10].drop('ViolentCrimesPerPop')\n",
    "new_city"
   ]
  },
  {
   "cell_type": "code",
   "execution_count": 50,
   "metadata": {},
   "outputs": [
    {
     "output_type": "execute_result",
     "data": {
      "text/plain": [
       "array([0.40220181])"
      ]
     },
     "metadata": {},
     "execution_count": 50
    }
   ],
   "source": [
    "lasso_final.predict(new_city.values.reshape(1,-1))"
   ]
  },
  {
   "cell_type": "code",
   "execution_count": null,
   "metadata": {},
   "outputs": [],
   "source": []
  }
 ],
 "metadata": {
  "kernelspec": {
   "name": "python3",
   "display_name": "Python 3.9.0 64-bit",
   "metadata": {
    "interpreter": {
     "hash": "aee8b7b246df8f9039afb4144a1f6fd8d2ca17a180786b69acc140d282b71a49"
    }
   }
  },
  "language_info": {
   "codemirror_mode": {
    "name": "ipython",
    "version": 3
   },
   "file_extension": ".py",
   "mimetype": "text/x-python",
   "name": "python",
   "nbconvert_exporter": "python",
   "pygments_lexer": "ipython3",
   "version": "3.9.0-final"
  }
 },
 "nbformat": 4,
 "nbformat_minor": 2
}